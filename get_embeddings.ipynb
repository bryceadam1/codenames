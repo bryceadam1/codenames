{
 "cells": [
  {
   "cell_type": "code",
   "execution_count": 8,
   "metadata": {},
   "outputs": [
    {
     "name": "stderr",
     "output_type": "stream",
     "text": [
      "/var/folders/58/lhtws_7x3zs3hk8mh5kznkf00000gn/T/ipykernel_56576/1638088376.py:2: TqdmExperimentalWarning: Using `tqdm.autonotebook.tqdm` in notebook mode. Use `tqdm.tqdm` instead to force console mode (e.g. in jupyter console)\n",
      "  from tqdm.autonotebook import tqdm\n"
     ]
    }
   ],
   "source": [
    "import gensim.downloader as api\n",
    "from tqdm.autonotebook import tqdm"
   ]
  },
  {
   "cell_type": "code",
   "execution_count": 9,
   "metadata": {},
   "outputs": [],
   "source": [
    "word2vec = api.load('word2vec-google-news-300')"
   ]
  },
  {
   "cell_type": "code",
   "execution_count": 10,
   "metadata": {},
   "outputs": [
    {
     "name": "stdout",
     "output_type": "stream",
     "text": [
      "10000\n"
     ]
    }
   ],
   "source": [
    "wordlist = set()\n",
    "with open('wordlist.txt','r') as f:\n",
    "    while word := f.readline().strip().lower():\n",
    "        wordlist.add(word)\n",
    "print(len(wordlist))"
   ]
  },
  {
   "cell_type": "code",
   "execution_count": 11,
   "metadata": {},
   "outputs": [
    {
     "name": "stdout",
     "output_type": "stream",
     "text": [
      "400\n"
     ]
    }
   ],
   "source": [
    "codenames = set()\n",
    "with open('codenames.txt','r') as f:\n",
    "    while word := f.readline().strip().lower():\n",
    "        # Replace spaces with underscores\n",
    "        word = word.replace(' ','_')\n",
    "        codenames.add(word)\n",
    "print(len(codenames))"
   ]
  },
  {
   "cell_type": "code",
   "execution_count": 12,
   "metadata": {},
   "outputs": [],
   "source": [
    "for word in codenames:\n",
    "    if word not in wordlist:\n",
    "        wordlist.add(word)"
   ]
  },
  {
   "cell_type": "code",
   "execution_count": 13,
   "metadata": {},
   "outputs": [],
   "source": [
    "embeddings = {}\n",
    "for word in word2vec.key_to_index:\n",
    "    if word.lower() in wordlist:\n",
    "        embeddings[word.lower()] = word2vec[word]"
   ]
  },
  {
   "cell_type": "code",
   "execution_count": 14,
   "metadata": {},
   "outputs": [],
   "source": [
    "for word in wordlist:\n",
    "    try:\n",
    "        embeddings[word] = word2vec[word]\n",
    "    except:\n",
    "        pass"
   ]
  },
  {
   "cell_type": "code",
   "execution_count": 15,
   "metadata": {},
   "outputs": [
    {
     "name": "stdout",
     "output_type": "stream",
     "text": [
      "travesti\n",
      "viewpicture\n",
      "livecam\n",
      "sbjct\n",
      "rentcom\n",
      "ampland\n",
      "worldsex\n",
      "starsmerchant\n",
      "beastality\n",
      "xnxx\n",
      "trembl\n",
      "tvcom\n",
      "transexuales\n",
      "thumbzilla\n",
      "voyuer\n",
      "titten\n",
      "amazoncouk\n",
      "jelsoft\n",
      "shoppingcom\n",
      "uniprotkb\n",
      "pichunter\n",
      "halfcom\n",
      "milfhunter\n",
      "voyeurweb\n",
      "basename\n",
      "epinionscom\n",
      "bufing\n",
      "sublimedirectory\n",
      "sexcam\n",
      "postposted\n",
      "zshops\n",
      "msgid\n",
      "feof\n",
      "findarticles\n",
      "downloadcom\n",
      "msgstr\n",
      "listprice\n",
      "searchcom\n",
      "aspnet\n",
      "vsnet\n",
      "hotelscom\n",
      "verzeichnis\n",
      "amazoncom\n",
      "shoppercom\n",
      "acdbentity\n",
      "documentcreatetextnode\n",
      "cnetcom\n",
      "thehun\n",
      "livesex\n",
      "upskirts\n"
     ]
    }
   ],
   "source": [
    "for word in wordlist:\n",
    "    if word not in embeddings:\n",
    "        print(word)"
   ]
  },
  {
   "cell_type": "code",
   "execution_count": 17,
   "metadata": {},
   "outputs": [],
   "source": [
    "import numpy as np\n",
    "\n",
    "embeddings = {f\"_{word}\": embeddings[word] for word in embeddings}\n",
    "\n",
    "np.savez('embeddings.npz', **embeddings)"
   ]
  },
  {
   "cell_type": "code",
   "execution_count": null,
   "metadata": {},
   "outputs": [],
   "source": []
  }
 ],
 "metadata": {
  "kernelspec": {
   "display_name": "venv",
   "language": "python",
   "name": "python3"
  },
  "language_info": {
   "codemirror_mode": {
    "name": "ipython",
    "version": 3
   },
   "file_extension": ".py",
   "mimetype": "text/x-python",
   "name": "python",
   "nbconvert_exporter": "python",
   "pygments_lexer": "ipython3",
   "version": "3.11.3"
  },
  "orig_nbformat": 4
 },
 "nbformat": 4,
 "nbformat_minor": 2
}
